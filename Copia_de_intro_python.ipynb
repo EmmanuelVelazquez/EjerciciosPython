{
  "cells": [
    {
      "cell_type": "markdown",
      "metadata": {
        "id": "HdDMB469tcMH"
      },
      "source": [
        "<a href=\"https://colab.research.google.com/github/mcd-unison/material-programacion/blob/main/intro-python.ipynb\" target=\"_parent\"><img src=\"https://colab.research.google.com/assets/colab-badge.svg\" alt=\"Open In Colab\"/></a>"
      ]
    },
    {
      "cell_type": "markdown",
      "metadata": {
        "id": "0-Tn_iuatcMM"
      },
      "source": [
        "<center>\n",
        "<p><img src=\"https://mcd.unison.mx/wp-content/themes/awaken/img/logo_mcd.png\" width=\"100\">\n",
        "</p>\n",
        "\n",
        "\n",
        "\n",
        "# Curso Propedéutico en *Programación*\n",
        "\n",
        "## Introducción a `python` resolviendo preguntas\n",
        "\n",
        "\n",
        "**Julio Waissman Vilanova**\n",
        "\n"
      ]
    },
    {
      "cell_type": "markdown",
      "metadata": {
        "id": "F2H1TAu-tcMN"
      },
      "source": [
        "### Tipos\n",
        "\n",
        "¿Cuales son los tipos de datos básicos? Revisa los tipos siguientes:\n",
        "\n",
        "1. Tipos numéricos `int`, `float`, `complex`\n",
        "2. Cadenas de caracteres\n",
        "3. Tuplas\n",
        "4. Listas\n",
        "5. Diccionarios\n",
        "6. Conjuntos\n",
        "\n",
        "Da ejemplo de sobrecarga de operadores (en particular `+` y `*`)\n",
        "\n"
      ]
    },
    {
      "cell_type": "markdown",
      "source": [
        "Ejemplo"
      ],
      "metadata": {
        "id": "HWegzhzP0TCX"
      }
    },
    {
      "cell_type": "code",
      "execution_count": 3,
      "metadata": {
        "id": "d8WB3toetcMO",
        "colab": {
          "base_uri": "https://localhost:8080/"
        },
        "outputId": "b2a65322-b34a-4c9a-fc78-7ce8192df953"
      },
      "outputs": [
        {
          "output_type": "stream",
          "name": "stdout",
          "text": [
            "320\n"
          ]
        }
      ],
      "source": [
        "class suma:\n",
        "  def __init__(self,numero1):\n",
        "    self.numero1=numero1\n",
        "  def __add__(self,otro):\n",
        "    return self.numero1+otro.numero1\n",
        "numero1=suma(20)\n",
        "numero2=suma(300)\n",
        "print(numero1+numero2)"
      ]
    },
    {
      "cell_type": "code",
      "source": [
        "class arearect:\n",
        "  def __init__(self,lado1):\n",
        "    self.lado1=lado1\n",
        "  def __mul__(self,otro):\n",
        "    return self.lado1*otro.lado1\n",
        "lado1=arearect(5)\n",
        "lado2=arearect(8)\n",
        "print(lado1*lado2)"
      ],
      "metadata": {
        "colab": {
          "base_uri": "https://localhost:8080/"
        },
        "id": "hqatmrf75dvu",
        "outputId": "5de0dbe7-0a6e-4be8-85bd-195bf14592b9"
      },
      "execution_count": 7,
      "outputs": [
        {
          "output_type": "stream",
          "name": "stdout",
          "text": [
            "40\n"
          ]
        }
      ]
    },
    {
      "cell_type": "markdown",
      "metadata": {
        "id": "I1-dgoOktcMO"
      },
      "source": [
        "¿Que significa que unos tipos sean *mutables* y otros *inmutables*?\n",
        "\n",
        "Realiza un pequeño programa donde quede claro lo que significa que un tipo de datos sea mutable, e ilustra el uso del método `copy.deepcopy()`."
      ]
    },
    {
      "cell_type": "markdown",
      "source": [
        "Los datos inmutables no cambian el valor asignado mediante la ejecución del programa, puede cambiar si se usa el operardor de asignación (=).\n",
        "Los mutables si se pueden modificar en la ejecución de una función y por el operador de asignación."
      ],
      "metadata": {
        "id": "9r55Otyh7aau"
      }
    },
    {
      "cell_type": "code",
      "execution_count": 17,
      "metadata": {
        "id": "myyMsUw8tcMP",
        "colab": {
          "base_uri": "https://localhost:8080/"
        },
        "outputId": "c71e8389-c808-482b-cabd-eab5db07850d"
      },
      "outputs": [
        {
          "output_type": "stream",
          "name": "stdout",
          "text": [
            "['H', '0', 'L', 'A']\n",
            "['B', '0', 'L', 'A']\n"
          ]
        }
      ],
      "source": [
        "#mutable se puede modificar el elemento de la lista\n",
        "Lista = [\"H\",\"0\",\"L\",\"A\"]\n",
        "print(Lista)\n",
        "Lista[0]=\"B\"\n",
        "print(Lista)"
      ]
    },
    {
      "cell_type": "code",
      "source": [
        "#inmutable da error ya que un str no puede ser modificado a menos que la palabra \"Bola\" sea asignada a A\n",
        "A = \"Hola\"\n",
        "print(A)\n",
        "A[0] = \"B\"\n",
        "print(A)"
      ],
      "metadata": {
        "colab": {
          "base_uri": "https://localhost:8080/",
          "height": 211
        },
        "id": "VPKHm95J_Wa_",
        "outputId": "ae18545d-78bd-4cbe-bde5-ae3f217b6d29"
      },
      "execution_count": 34,
      "outputs": [
        {
          "output_type": "stream",
          "name": "stdout",
          "text": [
            "Hola\n"
          ]
        },
        {
          "output_type": "error",
          "ename": "TypeError",
          "evalue": "'str' object does not support item assignment",
          "traceback": [
            "\u001b[0;31m---------------------------------------------------------------------------\u001b[0m",
            "\u001b[0;31mTypeError\u001b[0m                                 Traceback (most recent call last)",
            "\u001b[0;32m<ipython-input-34-ee2cbae88d2c>\u001b[0m in \u001b[0;36m<cell line: 4>\u001b[0;34m()\u001b[0m\n\u001b[1;32m      2\u001b[0m \u001b[0mA\u001b[0m \u001b[0;34m=\u001b[0m \u001b[0;34m\"Hola\"\u001b[0m\u001b[0;34m\u001b[0m\u001b[0;34m\u001b[0m\u001b[0m\n\u001b[1;32m      3\u001b[0m \u001b[0mprint\u001b[0m\u001b[0;34m(\u001b[0m\u001b[0mA\u001b[0m\u001b[0;34m)\u001b[0m\u001b[0;34m\u001b[0m\u001b[0;34m\u001b[0m\u001b[0m\n\u001b[0;32m----> 4\u001b[0;31m \u001b[0mA\u001b[0m\u001b[0;34m[\u001b[0m\u001b[0;36m0\u001b[0m\u001b[0;34m]\u001b[0m \u001b[0;34m=\u001b[0m \u001b[0;34m\"B\"\u001b[0m\u001b[0;34m\u001b[0m\u001b[0;34m\u001b[0m\u001b[0m\n\u001b[0m\u001b[1;32m      5\u001b[0m \u001b[0mprint\u001b[0m\u001b[0;34m(\u001b[0m\u001b[0mA\u001b[0m\u001b[0;34m)\u001b[0m\u001b[0;34m\u001b[0m\u001b[0;34m\u001b[0m\u001b[0m\n",
            "\u001b[0;31mTypeError\u001b[0m: 'str' object does not support item assignment"
          ]
        }
      ]
    },
    {
      "cell_type": "code",
      "source": [
        "#al usar copy.deepcopy si la lista original se modifica no se cambiará el valor de la lista copiada\n",
        "import copy\n",
        "ListaOriginal=[[1,2,3],[4,5,6]]\n",
        "CopiaD = copy.deepcopy(ListaOriginal)\n",
        "ListaOriginal[0][0] = 0\n",
        "print(CopiaD)\n",
        "print(ListaOriginal)\n"
      ],
      "metadata": {
        "colab": {
          "base_uri": "https://localhost:8080/"
        },
        "id": "I6vUuQJoBsUp",
        "outputId": "fd342f7f-1192-4ba1-e3e3-a28aa1ea4294"
      },
      "execution_count": 33,
      "outputs": [
        {
          "output_type": "stream",
          "name": "stdout",
          "text": [
            "[[1, 2, 3], [4, 5, 6]]\n",
            "[[0, 2, 3], [4, 5, 6]]\n"
          ]
        }
      ]
    },
    {
      "cell_type": "markdown",
      "metadata": {
        "id": "KKigTa1GtcMP"
      },
      "source": [
        "### *Comprehension* de listas, conjuntos y diccionarios\n",
        "\n",
        "Escribe, en una sola linea, una expresión que genere una lista con todos los números enteros que se encuentran entre $1$ y $n$\n",
        "que sean divisibles por $3$ y $7$ y que el dígito menos significativo del número sea $6$."
      ]
    },
    {
      "cell_type": "code",
      "execution_count": 41,
      "metadata": {
        "id": "RrG3jopDtcMQ",
        "colab": {
          "base_uri": "https://localhost:8080/"
        },
        "outputId": "4b1acd73-d683-4907-8a0c-76505e176c3c"
      },
      "outputs": [
        {
          "output_type": "stream",
          "name": "stdout",
          "text": [
            "[126, 336, 546, 756, 966, 1176, 1386, 1596, 1806, 2016, 2226, 2436, 2646, 2856, 3066, 3276, 3486, 3696, 3906, 4116, 4326, 4536, 4746, 4956, 5166, 5376, 5586, 5796, 6006, 6216, 6426, 6636, 6846, 7056, 7266, 7476, 7686, 7896, 8106, 8316, 8526, 8736, 8946, 9156, 9366, 9576, 9786, 9996]\n"
          ]
        }
      ],
      "source": [
        "n = 10_000\n",
        "# Escribe aqui el *one linner*\n",
        "Valores = [x for x in range(n) if x% 3==0 and x % 7==0 and x % 10 == 6]\n",
        "print(Valores)"
      ]
    },
    {
      "cell_type": "markdown",
      "metadata": {
        "id": "VhSGwTNktcMR"
      },
      "source": [
        "### Funciones\n",
        "\n",
        "Escribe una función que:\n",
        "\n",
        "1. reciba una lista de elementos (letras, números, lo que sea),\n",
        "2. cuente la ocurrencia de cada elemento en la lista,\n",
        "3. devuelva las ocurrencias en forma de diccionario,\n",
        "4. si imprime es True, imprima un histograma de ocurrencias, por ejemplo:\n",
        "\n",
        "```python\n",
        "\n",
        "lista = [1,'a',1, 13, 'hola', 'a', 1, 1, 'a', 1]\n",
        "\n",
        "d = funcion_ejemplo(lista, imprime = True)\n",
        "\n",
        "1    \t\t***** \t(5 -> 50%)\n",
        "'a'  \t\t***   \t(3 -> 30%)\n",
        "13\t\t*\t(1 -> 10%)\n",
        "'hola'\t\t*\t(1 -> 10%)\n",
        "\n",
        "```"
      ]
    },
    {
      "cell_type": "code",
      "execution_count": 64,
      "metadata": {
        "id": "zS8wBZSNtcMS",
        "colab": {
          "base_uri": "https://localhost:8080/"
        },
        "outputId": "d1661510-ecc4-4a9a-ad1e-e0445f03fd64"
      },
      "outputs": [
        {
          "output_type": "stream",
          "name": "stdout",
          "text": [
            "a\t******\t6 --> 29%\n",
            "b\t***\t3 --> 14%\n",
            "c\t**\t2 --> 10%\n",
            "d\t*\t1 --> 5%\n",
            "1\t**\t2 --> 10%\n",
            "4\t**\t2 --> 10%\n",
            "5\t**\t2 --> 10%\n",
            "2\t**\t2 --> 10%\n",
            "3\t*\t1 --> 5%\n"
          ]
        }
      ],
      "source": [
        "# Escribe la función aquí\n",
        "def contar(lista):\n",
        "    conteo = {}\n",
        "    for a in lista:\n",
        "        if a in conteo:\n",
        "            conteo[a] += 1\n",
        "        else:\n",
        "            conteo[a] = 1\n",
        "\n",
        "    for clave, valor in conteo.items():\n",
        "        print(f\"{clave}\\t{valor * '*'}\\t{valor} --> {valor / len(lista):.0%}\")\n",
        "\n",
        "    return\n",
        "resultado = contar(lista=['a', 'a', 'a', 'a', 'b', 'a', 'c', 'b', 'a', 'd', 'c', 'b', 1, 4, 5, 2, 1, 4, 5, 2, 3])\n",
        "\n"
      ]
    },
    {
      "cell_type": "markdown",
      "metadata": {
        "id": "4mkP8JpbtcMS"
      },
      "source": [
        "Escribe una función que modifique un diccionario y regrese el diccionario modificado y una copia del original, donde cada entrada\n",
        "del diccionario sea una lista de valores. Ten en cuenta que si una entrada del diccionario es de tipo mutable, al modificarlo en la\n",
        "copia se modifica el original. Utiliza el modulo `copy` para evitar este problema. Ejemplo de la función:\n",
        "\n",
        "```python\n",
        "dic1 = {'Pepe':[12, 'enero', 1980], 'Carolina':[15,'mayo',1975],'Paco':[10,'nov',1970]}\n",
        "dic2 = fundicos(dic1, 'Pepe', 1, 'febrero')\n",
        "\n",
        "print(dic1)\n",
        "{'Pepe':[12, 'enero', 1980], 'Carolina':[15,'mayo',1975],'Paco':[10,'nov',1970]}\n",
        "\n",
        "print(dic2)\n",
        "{'Pepe':[12, 'febrero', 1980], 'Carolina':[15,'mayo',1975],'Paco':[10,'nov',1970]}\n",
        "```"
      ]
    },
    {
      "cell_type": "code",
      "execution_count": 88,
      "metadata": {
        "id": "UFtkUkDrtcMT"
      },
      "outputs": [],
      "source": [
        "# Escribe la función fundicos aquí\n",
        "def dicop(dic1,clave,valor):\n",
        "  dic2 = copy.deepcopy(dic1)\n",
        "  dic2[clave] = valor\n",
        "  return dic2\n"
      ]
    },
    {
      "cell_type": "code",
      "execution_count": 90,
      "metadata": {
        "id": "l8-xHtA0tcMT",
        "colab": {
          "base_uri": "https://localhost:8080/"
        },
        "outputId": "b760ce19-e02c-437f-a3a7-59e5e6533c50"
      },
      "outputs": [
        {
          "output_type": "stream",
          "name": "stdout",
          "text": [
            "{'Pepe': [12, 'enero', 1980], 'Carolina': [15, 'mayo', 1975], 'Paco': [10, 'nov', 1970]}\n",
            "{'Pepe': [12, 'enero', 1980], 'Carolina': [15, 'mayo', 1975], 'Paco': [10, 'nov', 1970], 'Juan': [10, 'Marzo', 1999]}\n"
          ]
        }
      ],
      "source": [
        "# Realiza pruebas de fundicos aquí\n",
        "dic1 = {'Pepe':[12, 'enero', 1980], 'Carolina':[15,'mayo',1975],'Paco':[10,'nov',1970]}\n",
        "dic2 = dicop(dic1,'Juan', [10,'Marzo',1999])\n",
        "print(dic1)\n",
        "print(dic2)"
      ]
    },
    {
      "cell_type": "markdown",
      "metadata": {
        "id": "VwLyfcg5tcMU"
      },
      "source": [
        "### Generadores\n",
        "\n",
        "Escribe un generador que reciba una lista y genere todas las permutaciones que se puedan hacer con los elementos de la lista"
      ]
    },
    {
      "cell_type": "code",
      "execution_count": 91,
      "metadata": {
        "id": "Z6BRpEKctcMU"
      },
      "outputs": [],
      "source": [
        "# Escribe aqui fun1\n",
        "\n",
        "def permutaciones(lista):\n",
        "    \"\"\"\n",
        "    Permutaciones de los elementos de una lista.\n",
        "\n",
        "    Devuelve un generador con todas las permutaciones posibles de los elementos de la lista de entrada\n",
        "    \"\"\"\n",
        "    #TODO: Implementar la función\n",
        "    if len(lista) == 0:\n",
        "      yield lista\n",
        "    else:\n",
        "      for (i, elemento) in enumerate(lista):\n",
        "        lista_menos_elem = lista[:i] + lista[i+1:]\n",
        "        for perm in permutaciones(lista_menos_elem):\n",
        "          yield [elemento] + perm"
      ]
    },
    {
      "cell_type": "code",
      "execution_count": 92,
      "metadata": {
        "id": "ieedjnDbtcMU",
        "colab": {
          "base_uri": "https://localhost:8080/"
        },
        "outputId": "0238be32-2fa7-41ce-bf76-69224fe2c796"
      },
      "outputs": [
        {
          "output_type": "stream",
          "name": "stdout",
          "text": [
            "['a', 'b', 'c', 'd']\n",
            "['a', 'b', 'd', 'c']\n",
            "['a', 'c', 'b', 'd']\n",
            "['a', 'c', 'd', 'b']\n",
            "['a', 'd', 'b', 'c']\n",
            "['a', 'd', 'c', 'b']\n",
            "['b', 'a', 'c', 'd']\n",
            "['b', 'a', 'd', 'c']\n",
            "['b', 'c', 'a', 'd']\n",
            "['b', 'c', 'd', 'a']\n",
            "['b', 'd', 'a', 'c']\n",
            "['b', 'd', 'c', 'a']\n",
            "['c', 'a', 'b', 'd']\n",
            "['c', 'a', 'd', 'b']\n",
            "['c', 'b', 'a', 'd']\n",
            "['c', 'b', 'd', 'a']\n",
            "['c', 'd', 'a', 'b']\n",
            "['c', 'd', 'b', 'a']\n",
            "['d', 'a', 'b', 'c']\n",
            "['d', 'a', 'c', 'b']\n",
            "['d', 'b', 'a', 'c']\n",
            "['d', 'b', 'c', 'a']\n",
            "['d', 'c', 'a', 'b']\n",
            "['d', 'c', 'b', 'a']\n"
          ]
        }
      ],
      "source": [
        "# Realiza pruebas de fun2 aquí\n",
        "for p in permutaciones(['a', 'b', 'c', 'd']):\n",
        "    print(p)"
      ]
    },
    {
      "cell_type": "markdown",
      "metadata": {
        "id": "pyI0i7CntcMU"
      },
      "source": [
        "Ahora escribe una funcipn que reciba 4 digitos del 0 al 9, y devuelva una lista con todas las horas váidas que se puedan hacer con estos dígitos en forma de lista de strings con la forma `\"HH:MM\"`."
      ]
    },
    {
      "cell_type": "code",
      "execution_count": 102,
      "metadata": {
        "id": "t0U00IlZtcMV"
      },
      "outputs": [],
      "source": [
        "def horas_validas(lista):\n",
        "    \"\"\"\n",
        "    Docstring a comentar correctamente\n",
        "    \"\"\"\n",
        "    #TODO: Implementar la función\n",
        "    if len(lista) == 0:\n",
        "      yield lista\n",
        "    else:\n",
        "      for (i, elemento) in enumerate(lista):\n",
        "        lista_menos_elem = lista[:i] + lista[i+1:]\n",
        "        for perm in permutaciones(lista_menos_elem):\n",
        "          yield [elemento] + perm"
      ]
    },
    {
      "cell_type": "markdown",
      "metadata": {
        "id": "xogebUI0tcMV"
      },
      "source": [
        "Validando:"
      ]
    },
    {
      "cell_type": "code",
      "execution_count": 128,
      "metadata": {
        "id": "axeNt--OtcMV",
        "colab": {
          "base_uri": "https://localhost:8080/"
        },
        "outputId": "ecc2b14b-4edc-418f-ec8b-91050e7917de"
      },
      "outputs": [
        {
          "output_type": "stream",
          "name": "stdout",
          "text": [
            "12HH:34MM\n",
            "12HH:43MM\n",
            "13HH:24MM\n",
            "13HH:42MM\n",
            "14HH:23MM\n",
            "14HH:32MM\n",
            "21HH:34MM\n",
            "21HH:43MM\n",
            "23HH:14MM\n",
            "23HH:41MM\n"
          ]
        }
      ],
      "source": [
        "for p in permutaciones([1,2,3,4]):\n",
        "  if p[0] * 10 + p[1] <=23 and p[2] * 10 + p[1] <=59:\n",
        "    hora_str = str(p[0]) + str(p[1]) + \"HH:\"+ str(p[2]) + str(p[3]) + \"MM\"\n",
        "    print(hora_str)\n",
        "  else:\n",
        "    pass"
      ]
    },
    {
      "cell_type": "markdown",
      "metadata": {
        "id": "aa2C3-i6tcMW"
      },
      "source": [
        "Escribe una función, lo más compacta posible, que escoja entre los 3 patrones ascii a continuación, e imprima en pantalla\n",
        "el deseado, pero de dimensión $n$ ($n \\ge 4$), toma en cuanta que para algunos valores de $n$ habrá\n",
        "algún(os) patrones que no se puedan hacer.\n",
        "\n",
        "```\n",
        "          *             ++++           oooooooo\n",
        "          **            ++++           ooo  ooo\n",
        "          ***           ++++           oo    oo\n",
        "          ****          ++++           o      o\n",
        "          *****             ++++       o      o\n",
        "          ******            ++++       oo    oo\n",
        "          *******           ++++       ooo  ooo\n",
        "          ********          ++++       oooooooo\n",
        "\n",
        "```"
      ]
    },
    {
      "cell_type": "code",
      "execution_count": 153,
      "metadata": {
        "id": "vMC3wU3NtcMW",
        "colab": {
          "base_uri": "https://localhost:8080/"
        },
        "outputId": "6d172cb9-8341-4294-9d5f-4e93ed41a39d"
      },
      "outputs": [
        {
          "output_type": "stream",
          "name": "stdout",
          "text": [
            "****** \n",
            "*****  \n",
            "****   \n",
            "***    \n",
            "**     \n",
            "*      \n",
            "       \n"
          ]
        }
      ],
      "source": [
        "def generar_patron(tamaño):\n",
        "    for i in range(tamaño):\n",
        "        espacios = \"*\" * (tamaño - i - 1)\n",
        "        asteriscos = \" \" * (i + 1)\n",
        "        print(espacios + asteriscos)\n",
        "\n",
        "# Ejemplo de uso\n",
        "generar_patron(7)\n"
      ]
    },
    {
      "cell_type": "code",
      "execution_count": null,
      "metadata": {
        "id": "F7REg8C_tcMW"
      },
      "outputs": [],
      "source": [
        "#Realiza pruebas aquí\n"
      ]
    },
    {
      "cell_type": "markdown",
      "metadata": {
        "id": "VYTiFmUStcMX"
      },
      "source": [
        "### Clases y objetos\n",
        "\n",
        "Diseña una clase Matriz con las siguientes características:\n",
        "\n",
        "1. Como inicialización de un objeto es necesario conocer $n$, $m$ y tipo. En caso de no proporcionar $m$ la matriz se asume cuadrada de $n \\times n$. En caso de no proporcionar $n$ la matriz tendrá una dimensión de $1 \\times 1$.\n",
        "2. De no especificarse todos los elementos se inicializan a 0, a menos que exista un tipo especial ( `unos` o `diag` por el momento).\n",
        "3. Implementa con sobrecarga la suma de matrices, la multiplicación de matrices y la multiplicación por un escalar.\n",
        "4. Implementa como métodos eliminar columna y eliminar fila.   \n",
        "5. Programa la representación visual de la matriz.\n",
        "6. Ten en cuenta tambien el manejo de errores.\n",
        "\n",
        "\n",
        "Ejemplo de uso:\n",
        "\n",
        "```\n",
        ">>> A = Matriz(n=3, m=4)\n",
        "\n",
        ">>> print(A)\n",
        "0 0 0 0\n",
        "0 0 0 0\n",
        "0 0 0 0\n",
        "\n",
        ">>> A = A.quitafila(2)\n",
        "\n",
        ">>> print(A)\n",
        "0 0 0 0\n",
        "0 0 0 0\n",
        "\n",
        ">>> B = Matriz(4,4,'diag')\n",
        "\n",
        ">>> print(B)\n",
        "1 0 0 0\n",
        "0 1 0 0\n",
        "0 0 1 0\n",
        "0 0 0 1\n",
        "\n",
        ">>> C = Matriz(4,1,'unos')\n",
        "\n",
        ">>> print(C)\n",
        "1\n",
        "1\n",
        "1\n",
        "1\n",
        "\n",
        ">>> D = 3 * B * C\n",
        "\n",
        ">>> print(D)\n",
        "3\n",
        "3\n",
        "3\n",
        "3\n",
        "\n",
        ">>> E = 3 * B + C\n",
        "error \"No seas menso, si no son de la misma dimensión las matrices no se pueden sumar\"\n",
        "```"
      ]
    },
    {
      "cell_type": "code",
      "execution_count": 288,
      "metadata": {
        "id": "ZJpWAo9etcMX",
        "colab": {
          "base_uri": "https://localhost:8080/"
        },
        "outputId": "580d14b6-ac06-445a-b2da-b270738ee60a"
      },
      "outputs": [
        {
          "output_type": "stream",
          "name": "stdout",
          "text": [
            "Matriz A:\n",
            "[0, 0, 0, 0]\n",
            "[0, 0, 0, 0]\n",
            "[0, 0, 0, 0]\n",
            "\n",
            "Matriz B:\n",
            "[1, 0, 0, 0]\n",
            "[0, 1, 0, 0]\n",
            "[0, 0, 1, 0]\n",
            "[0, 0, 0, 1]\n",
            "\n",
            "Matriz C:\n",
            "[1, 1, 1, 1]\n",
            "[1, 1, 1, 1]\n",
            "[1, 1, 1, 1]\n",
            "[1, 1, 1, 1]\n",
            "\n",
            "Matriz D:\n",
            "[0, 0, 0]\n",
            "[0, 0, 0]\n",
            "[0, 0, 0]\n",
            "\n",
            "Matriz E:\n",
            "[4, 4, 4]\n",
            "[4, 4, 4]\n",
            "[4, 4, 4]\n"
          ]
        }
      ],
      "source": [
        "class Matriz:\n",
        "    def __init__(self, n, m):\n",
        "        self.n = n\n",
        "        self.m = m\n",
        "        self.matriz = [[0] * m for _ in range(n)]\n",
        "    def ceros(self):\n",
        "        self.matriz = [[0] * m for _ in range(n)]\n",
        "    def unos(self):\n",
        "        self.matriz = [[1] * m for _ in range(n)]\n",
        "    def quitafila(self, f):\n",
        "        if 0 <= f < self.n:\n",
        "            del self.matriz[f]\n",
        "            self.n -= 1\n",
        "        return self.matriz\n",
        "    def quitacol(self, c):\n",
        "        if 0 <= c < self.m:\n",
        "            for fila in self.matriz:\n",
        "                del fila[c]\n",
        "            self.m -= 1\n",
        "        return self.matriz\n",
        "    def imprimir_matriz(self):\n",
        "        for fila in self.matriz:\n",
        "            print(fila)\n",
        "    def diag(self):\n",
        "        self.matriz = [[1 if i == j else 0 for j in range(self.m)] for i in range(self.n)]\n",
        "        return self.matriz\n",
        "    def escalar(self, esca):\n",
        "        self.matriz = [[esca] * self.m for _ in range(self.n)]\n",
        "        return self.matriz\n",
        "print(\"Matriz A:\")\n",
        "A = Matriz(3, 4)\n",
        "A.imprimir_matriz()\n",
        "\n",
        "print(\"\\nMatriz B:\")\n",
        "B = Matriz(4, 4)\n",
        "B.diag()\n",
        "B.imprimir_matriz()\n",
        "\n",
        "print(\"\\nMatriz C:\")\n",
        "C = Matriz(4, 1)\n",
        "C.unos()\n",
        "C.imprimir_matriz()\n",
        "\n",
        "print(\"\\nMatriz D:\")\n",
        "D = Matriz(4,4)\n",
        "D.quitacol(0)\n",
        "D.quitafila(0)\n",
        "D.imprimir_matriz()\n",
        "\n",
        "print(\"\\nMatriz E:\")\n",
        "E = Matriz(3,3)\n",
        "E.unos()\n",
        "E.escalar(4)\n",
        "E.imprimir_matriz()"
      ]
    }
  ],
  "metadata": {
    "kernelspec": {
      "display_name": "ing-caract",
      "language": "python",
      "name": "python3"
    },
    "language_info": {
      "codemirror_mode": {
        "name": "ipython",
        "version": 3
      },
      "file_extension": ".py",
      "mimetype": "text/x-python",
      "name": "python",
      "nbconvert_exporter": "python",
      "pygments_lexer": "ipython3",
      "version": "3.8.13"
    },
    "orig_nbformat": 4,
    "colab": {
      "provenance": []
    }
  },
  "nbformat": 4,
  "nbformat_minor": 0
}